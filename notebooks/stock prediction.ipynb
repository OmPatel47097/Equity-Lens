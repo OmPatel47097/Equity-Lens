{
 "cells": [
  {
   "metadata": {
    "ExecuteTime": {
     "end_time": "2024-06-30T20:12:20.755007Z",
     "start_time": "2024-06-30T20:12:16.590896Z"
    }
   },
   "cell_type": "code",
   "source": "from services.StockTrendPrediction import StockTrendPrediction",
   "id": "af022490c5108a9b",
   "execution_count": 1,
   "outputs": []
  },
  {
   "metadata": {
    "ExecuteTime": {
     "end_time": "2024-06-30T20:12:22.118621Z",
     "start_time": "2024-06-30T20:12:20.755007Z"
    }
   },
   "cell_type": "code",
   "source": [
    "stockTrendPrediction = StockTrendPrediction()\n",
    "stockTrendPrediction.load_data('AAPL')\n",
    "stockTrendPrediction.create_features()\n",
    "stockTrendPrediction.split_data()\n",
    "stockTrendPrediction.df_train.describe()\n",
    "stockTrendPrediction.normalize_data()\n",
    "\n",
    "stockTrendPrediction.df_train.describe()\n"
   ],
   "id": "7bd7896df5cca547",
   "execution_count": 2,
   "outputs": []
  },
  {
   "metadata": {
    "ExecuteTime": {
     "end_time": "2024-06-30T20:12:22.134242Z",
     "start_time": "2024-06-30T20:12:22.118621Z"
    }
   },
   "cell_type": "code",
   "source": "stockTrendPrediction.df_train.info()\n",
   "id": "dd163cfa7adde718",
   "execution_count": 3,
   "outputs": []
  },
  {
   "metadata": {
    "ExecuteTime": {
     "end_time": "2024-06-30T20:12:22.165487Z",
     "start_time": "2024-06-30T20:12:22.134242Z"
    }
   },
   "cell_type": "code",
   "source": "stockTrendPrediction.df_train",
   "id": "2098a0006fface7b",
   "execution_count": 4,
   "outputs": []
  },
  {
   "metadata": {
    "ExecuteTime": {
     "end_time": "2024-06-30T20:12:22.181119Z",
     "start_time": "2024-06-30T20:12:22.165487Z"
    }
   },
   "cell_type": "code",
   "source": "# stockTrendPrediction.df_test.reset_index(inplace=True,drop=True)",
   "id": "fe94c1f3ce3641e6",
   "execution_count": 5,
   "outputs": []
  },
  {
   "metadata": {
    "ExecuteTime": {
     "end_time": "2024-06-30T20:12:22.197177Z",
     "start_time": "2024-06-30T20:12:22.181119Z"
    }
   },
   "cell_type": "code",
   "source": "# stockTrendPrediction.df_test.head()",
   "id": "93ee9cd480fbf9c0",
   "execution_count": 6,
   "outputs": []
  },
  {
   "metadata": {
    "ExecuteTime": {
     "end_time": "2024-06-30T20:12:22.244071Z",
     "start_time": "2024-06-30T20:12:22.197177Z"
    }
   },
   "cell_type": "code",
   "source": [
    "X_train, y_train = stockTrendPrediction.create_sequences(stockTrendPrediction.df_train)\n",
    "X_test, y_test = stockTrendPrediction.create_sequences(stockTrendPrediction.df_test)"
   ],
   "id": "430be105368930bd",
   "execution_count": 7,
   "outputs": []
  },
  {
   "metadata": {
    "ExecuteTime": {
     "end_time": "2024-06-30T20:12:22.259697Z",
     "start_time": "2024-06-30T20:12:22.244071Z"
    }
   },
   "cell_type": "code",
   "source": [
    "print(X_train.shape, y_train.shape)\n",
    "print(X_test.shape, y_test.shape)"
   ],
   "id": "eb16e52fe63c898d",
   "execution_count": 8,
   "outputs": []
  },
  {
   "metadata": {},
   "cell_type": "code",
   "source": [
    "stockTrendPrediction.build_model()\n",
    "stockTrendPrediction.model.summary()"
   ],
   "id": "9d39d88a46bf3474",
   "execution_count": null,
   "outputs": []
  },
  {
   "metadata": {},
   "cell_type": "code",
   "source": "stockTrendPrediction.hypertune_model(X_train, y_train, X_test, y_test)",
   "id": "67a16f69873b94ef",
   "execution_count": 10,
   "outputs": []
  },
  {
   "metadata": {
    "ExecuteTime": {
     "end_time": "2024-06-30T20:12:59.531025Z",
     "start_time": "2024-06-30T20:12:53.654639Z"
    }
   },
   "cell_type": "code",
   "source": "test_prediction = stockTrendPrediction.predict(X_test)",
   "id": "ecfc87958c2c2cad",
   "execution_count": 10,
   "outputs": []
  },
  {
   "metadata": {
    "ExecuteTime": {
     "end_time": "2024-06-30T20:13:06.175179Z",
     "start_time": "2024-06-30T20:13:05.515546Z"
    }
   },
   "cell_type": "code",
   "source": [
    "import matplotlib.pyplot as plt\n",
    "\n",
    "plt.plot(y_test)\n",
    "plt.plot(test_prediction)"
   ],
   "id": "6d16dc73bf3482c7",
   "execution_count": 11,
   "outputs": []
  },
  {
   "metadata": {},
   "cell_type": "code",
   "source": [
    "from services.StockTrendPrediction import StockTrendPrediction\n",
    "\n",
    "stockTrendPrediction = StockTrendPrediction(10)\n",
    "\n",
    "test_pred, y_test = stockTrendPrediction.train_and_predict('MSFT')\n",
    "\n"
   ],
   "id": "f997daaca8124dde",
   "execution_count": 1,
   "outputs": []
  },
  {
   "metadata": {
    "ExecuteTime": {
     "end_time": "2024-07-31T14:54:00.919653Z",
     "start_time": "2024-07-31T14:54:00.642246Z"
    }
   },
   "cell_type": "code",
   "source": [
    "import seaborn as sns\n",
    "sns.lineplot(data=test_pred)\n",
    "sns.lineplot(data=y_test)"
   ],
   "id": "c2d13d13f57bb223",
   "execution_count": 3,
   "outputs": []
  },
  {
   "metadata": {},
   "cell_type": "code",
   "execution_count": null,
   "source": "",
   "id": "c98f6e4a588f5850",
   "outputs": []
  }
 ],
 "metadata": {
  "kernelspec": {
   "display_name": "Python 3",
   "language": "python",
   "name": "python3"
  },
  "language_info": {
   "codemirror_mode": {
    "name": "ipython",
    "version": 2
   },
   "file_extension": ".py",
   "mimetype": "text/x-python",
   "name": "python",
   "nbconvert_exporter": "python",
   "pygments_lexer": "ipython2",
   "version": "2.7.6"
  }
 },
 "nbformat": 4,
 "nbformat_minor": 5
}
