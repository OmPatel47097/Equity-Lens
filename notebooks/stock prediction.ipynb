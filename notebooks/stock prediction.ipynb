{
 "cells": [
  {
   "metadata": {
    "ExecuteTime": {
     "end_time": "2024-06-30T20:12:20.755007Z",
     "start_time": "2024-06-30T20:12:16.590896Z"
    }
   },
   "cell_type": "code",
   "source": "from services.StockTrendPrediction import StockTrendPrediction",
   "id": "af022490c5108a9b",
   "outputs": [],
   "execution_count": 1
  },
  {
   "metadata": {
    "ExecuteTime": {
     "end_time": "2024-06-30T20:12:22.118621Z",
     "start_time": "2024-06-30T20:12:20.755007Z"
    }
   },
   "cell_type": "code",
   "source": [
    "stockTrendPrediction = StockTrendPrediction()\n",
    "stockTrendPrediction.load_data('AAPL')\n",
    "stockTrendPrediction.create_features()\n",
    "stockTrendPrediction.split_data()\n",
    "stockTrendPrediction.df_train.describe()\n",
    "stockTrendPrediction.normalize_data()\n",
    "\n",
    "stockTrendPrediction.df_train.describe()\n"
   ],
   "id": "7bd7896df5cca547",
   "outputs": [
    {
     "name": "stdout",
     "output_type": "stream",
     "text": [
      "AAPL 1d\n"
     ]
    },
    {
     "name": "stderr",
     "output_type": "stream",
     "text": [
      "D:\\College\\Sem 2\\Projects In ML\\Equity-Lens\\utils\\IndicatorGenerator.py:86: FutureWarning: Series.__getitem__ treating keys as positions is deprecated. In a future version, integer keys will always be treated as labels (consistent with DataFrame behavior). To access a value by position, use `ser.iloc[pos]`\n",
      "  psar = self.data['adj_close'][0]\n",
      "D:\\College\\Sem 2\\Projects In ML\\Equity-Lens\\utils\\IndicatorGenerator.py:89: FutureWarning: Series.__getitem__ treating keys as positions is deprecated. In a future version, integer keys will always be treated as labels (consistent with DataFrame behavior). To access a value by position, use `ser.iloc[pos]`\n",
      "  psar = psar_series[-1] + 0.02 * (self.data['high'][i] - psar_series[-1]) if self.data['adj_close'][i] > \\\n",
      "D:\\College\\Sem 2\\Projects In ML\\Equity-Lens\\utils\\IndicatorGenerator.py:91: FutureWarning: Series.__getitem__ treating keys as positions is deprecated. In a future version, integer keys will always be treated as labels (consistent with DataFrame behavior). To access a value by position, use `ser.iloc[pos]`\n",
      "  psar_series[-1] - 0.02 * (psar_series[-1] - self.data['low'][i])\n"
     ]
    },
    {
     "data": {
      "text/plain": [
       "               open         high           low         close     adj_close  \\\n",
       "count  8.780000e+03  8780.000000  8.780000e+03  8.780000e+03  8.780000e+03   \n",
       "mean  -2.589677e-17     0.000000 -2.589677e-17 -7.769032e-17 -2.589677e-17   \n",
       "std    1.000057e+00     1.000057  1.000057e+00  1.000057e+00  1.000057e+00   \n",
       "min   -5.215260e-01    -0.522530 -5.205866e-01 -5.216619e-01 -5.137141e-01   \n",
       "25%   -4.940371e-01    -0.494585 -4.934760e-01 -4.940771e-01 -4.872292e-01   \n",
       "50%   -4.740593e-01    -0.474400 -4.736499e-01 -4.739309e-01 -4.692070e-01   \n",
       "75%   -1.027442e-01    -0.101475 -1.032138e-01 -1.034519e-01 -1.102167e-01   \n",
       "max    4.136025e+00     4.097353  4.077572e+00  4.088404e+00  4.199344e+00   \n",
       "\n",
       "             volume           rsi          macd   macd_signal         ema_5  \\\n",
       "count  8.780000e+03  8.780000e+03  8.780000e+03  8.780000e+03  8.780000e+03   \n",
       "mean   4.208226e-17 -1.424323e-16  1.294839e-17  1.294839e-17  2.589677e-17   \n",
       "std    1.000057e+00  1.000057e+00  1.000057e+00  1.000057e+00  1.000057e+00   \n",
       "min   -1.040615e+00 -2.874991e+00 -7.289079e+00 -6.117364e+00 -5.132951e-01   \n",
       "25%   -6.216545e-01 -7.317760e-01 -1.830912e-01 -1.902106e-01 -4.869714e-01   \n",
       "50%   -3.105900e-01 -9.265608e-03 -1.355161e-01 -1.417340e-01 -4.691003e-01   \n",
       "75%    2.542621e-01  7.370644e-01 -4.558479e-02 -4.940346e-02 -1.061883e-01   \n",
       "max    1.981915e+01  2.610685e+00  8.086919e+00  7.394087e+00  4.160663e+00   \n",
       "\n",
       "            ema_20       ema_50  stochastic_oscillator           cci  \\\n",
       "count  8780.000000  8780.000000           8.780000e+03  8.780000e+03   \n",
       "mean      0.000000     0.000000           1.327210e-16  4.855645e-18   \n",
       "std       1.000057     1.000057           1.000057e+00  1.000057e+00   \n",
       "min      -0.512373    -0.511381          -6.988367e+00 -4.356618e+00   \n",
       "25%      -0.485955    -0.484978          -5.709400e-01 -7.020002e-01   \n",
       "50%      -0.468411    -0.467646           1.248855e-01  5.162606e-03   \n",
       "75%      -0.102007    -0.100277           7.095389e-01  6.685877e-01   \n",
       "max       4.128683     4.124842           2.160573e+00  4.822105e+00   \n",
       "\n",
       "                roc  \n",
       "count  8.780000e+03  \n",
       "mean  -5.260282e-18  \n",
       "std    1.000057e+00  \n",
       "min   -6.336820e+00  \n",
       "25%   -5.893733e-01  \n",
       "50%   -3.285554e-02  \n",
       "75%    5.738658e-01  \n",
       "max    7.306125e+00  "
      ],
      "text/html": [
       "<div>\n",
       "<style scoped>\n",
       "    .dataframe tbody tr th:only-of-type {\n",
       "        vertical-align: middle;\n",
       "    }\n",
       "\n",
       "    .dataframe tbody tr th {\n",
       "        vertical-align: top;\n",
       "    }\n",
       "\n",
       "    .dataframe thead th {\n",
       "        text-align: right;\n",
       "    }\n",
       "</style>\n",
       "<table border=\"1\" class=\"dataframe\">\n",
       "  <thead>\n",
       "    <tr style=\"text-align: right;\">\n",
       "      <th></th>\n",
       "      <th>open</th>\n",
       "      <th>high</th>\n",
       "      <th>low</th>\n",
       "      <th>close</th>\n",
       "      <th>adj_close</th>\n",
       "      <th>volume</th>\n",
       "      <th>rsi</th>\n",
       "      <th>macd</th>\n",
       "      <th>macd_signal</th>\n",
       "      <th>ema_5</th>\n",
       "      <th>ema_20</th>\n",
       "      <th>ema_50</th>\n",
       "      <th>stochastic_oscillator</th>\n",
       "      <th>cci</th>\n",
       "      <th>roc</th>\n",
       "    </tr>\n",
       "  </thead>\n",
       "  <tbody>\n",
       "    <tr>\n",
       "      <th>count</th>\n",
       "      <td>8.780000e+03</td>\n",
       "      <td>8780.000000</td>\n",
       "      <td>8.780000e+03</td>\n",
       "      <td>8.780000e+03</td>\n",
       "      <td>8.780000e+03</td>\n",
       "      <td>8.780000e+03</td>\n",
       "      <td>8.780000e+03</td>\n",
       "      <td>8.780000e+03</td>\n",
       "      <td>8.780000e+03</td>\n",
       "      <td>8.780000e+03</td>\n",
       "      <td>8780.000000</td>\n",
       "      <td>8780.000000</td>\n",
       "      <td>8.780000e+03</td>\n",
       "      <td>8.780000e+03</td>\n",
       "      <td>8.780000e+03</td>\n",
       "    </tr>\n",
       "    <tr>\n",
       "      <th>mean</th>\n",
       "      <td>-2.589677e-17</td>\n",
       "      <td>0.000000</td>\n",
       "      <td>-2.589677e-17</td>\n",
       "      <td>-7.769032e-17</td>\n",
       "      <td>-2.589677e-17</td>\n",
       "      <td>4.208226e-17</td>\n",
       "      <td>-1.424323e-16</td>\n",
       "      <td>1.294839e-17</td>\n",
       "      <td>1.294839e-17</td>\n",
       "      <td>2.589677e-17</td>\n",
       "      <td>0.000000</td>\n",
       "      <td>0.000000</td>\n",
       "      <td>1.327210e-16</td>\n",
       "      <td>4.855645e-18</td>\n",
       "      <td>-5.260282e-18</td>\n",
       "    </tr>\n",
       "    <tr>\n",
       "      <th>std</th>\n",
       "      <td>1.000057e+00</td>\n",
       "      <td>1.000057</td>\n",
       "      <td>1.000057e+00</td>\n",
       "      <td>1.000057e+00</td>\n",
       "      <td>1.000057e+00</td>\n",
       "      <td>1.000057e+00</td>\n",
       "      <td>1.000057e+00</td>\n",
       "      <td>1.000057e+00</td>\n",
       "      <td>1.000057e+00</td>\n",
       "      <td>1.000057e+00</td>\n",
       "      <td>1.000057</td>\n",
       "      <td>1.000057</td>\n",
       "      <td>1.000057e+00</td>\n",
       "      <td>1.000057e+00</td>\n",
       "      <td>1.000057e+00</td>\n",
       "    </tr>\n",
       "    <tr>\n",
       "      <th>min</th>\n",
       "      <td>-5.215260e-01</td>\n",
       "      <td>-0.522530</td>\n",
       "      <td>-5.205866e-01</td>\n",
       "      <td>-5.216619e-01</td>\n",
       "      <td>-5.137141e-01</td>\n",
       "      <td>-1.040615e+00</td>\n",
       "      <td>-2.874991e+00</td>\n",
       "      <td>-7.289079e+00</td>\n",
       "      <td>-6.117364e+00</td>\n",
       "      <td>-5.132951e-01</td>\n",
       "      <td>-0.512373</td>\n",
       "      <td>-0.511381</td>\n",
       "      <td>-6.988367e+00</td>\n",
       "      <td>-4.356618e+00</td>\n",
       "      <td>-6.336820e+00</td>\n",
       "    </tr>\n",
       "    <tr>\n",
       "      <th>25%</th>\n",
       "      <td>-4.940371e-01</td>\n",
       "      <td>-0.494585</td>\n",
       "      <td>-4.934760e-01</td>\n",
       "      <td>-4.940771e-01</td>\n",
       "      <td>-4.872292e-01</td>\n",
       "      <td>-6.216545e-01</td>\n",
       "      <td>-7.317760e-01</td>\n",
       "      <td>-1.830912e-01</td>\n",
       "      <td>-1.902106e-01</td>\n",
       "      <td>-4.869714e-01</td>\n",
       "      <td>-0.485955</td>\n",
       "      <td>-0.484978</td>\n",
       "      <td>-5.709400e-01</td>\n",
       "      <td>-7.020002e-01</td>\n",
       "      <td>-5.893733e-01</td>\n",
       "    </tr>\n",
       "    <tr>\n",
       "      <th>50%</th>\n",
       "      <td>-4.740593e-01</td>\n",
       "      <td>-0.474400</td>\n",
       "      <td>-4.736499e-01</td>\n",
       "      <td>-4.739309e-01</td>\n",
       "      <td>-4.692070e-01</td>\n",
       "      <td>-3.105900e-01</td>\n",
       "      <td>-9.265608e-03</td>\n",
       "      <td>-1.355161e-01</td>\n",
       "      <td>-1.417340e-01</td>\n",
       "      <td>-4.691003e-01</td>\n",
       "      <td>-0.468411</td>\n",
       "      <td>-0.467646</td>\n",
       "      <td>1.248855e-01</td>\n",
       "      <td>5.162606e-03</td>\n",
       "      <td>-3.285554e-02</td>\n",
       "    </tr>\n",
       "    <tr>\n",
       "      <th>75%</th>\n",
       "      <td>-1.027442e-01</td>\n",
       "      <td>-0.101475</td>\n",
       "      <td>-1.032138e-01</td>\n",
       "      <td>-1.034519e-01</td>\n",
       "      <td>-1.102167e-01</td>\n",
       "      <td>2.542621e-01</td>\n",
       "      <td>7.370644e-01</td>\n",
       "      <td>-4.558479e-02</td>\n",
       "      <td>-4.940346e-02</td>\n",
       "      <td>-1.061883e-01</td>\n",
       "      <td>-0.102007</td>\n",
       "      <td>-0.100277</td>\n",
       "      <td>7.095389e-01</td>\n",
       "      <td>6.685877e-01</td>\n",
       "      <td>5.738658e-01</td>\n",
       "    </tr>\n",
       "    <tr>\n",
       "      <th>max</th>\n",
       "      <td>4.136025e+00</td>\n",
       "      <td>4.097353</td>\n",
       "      <td>4.077572e+00</td>\n",
       "      <td>4.088404e+00</td>\n",
       "      <td>4.199344e+00</td>\n",
       "      <td>1.981915e+01</td>\n",
       "      <td>2.610685e+00</td>\n",
       "      <td>8.086919e+00</td>\n",
       "      <td>7.394087e+00</td>\n",
       "      <td>4.160663e+00</td>\n",
       "      <td>4.128683</td>\n",
       "      <td>4.124842</td>\n",
       "      <td>2.160573e+00</td>\n",
       "      <td>4.822105e+00</td>\n",
       "      <td>7.306125e+00</td>\n",
       "    </tr>\n",
       "  </tbody>\n",
       "</table>\n",
       "</div>"
      ]
     },
     "execution_count": 2,
     "metadata": {},
     "output_type": "execute_result"
    }
   ],
   "execution_count": 2
  },
  {
   "metadata": {
    "ExecuteTime": {
     "end_time": "2024-06-30T20:12:22.134242Z",
     "start_time": "2024-06-30T20:12:22.118621Z"
    }
   },
   "cell_type": "code",
   "source": "stockTrendPrediction.df_train.info()\n",
   "id": "dd163cfa7adde718",
   "outputs": [
    {
     "name": "stdout",
     "output_type": "stream",
     "text": [
      "<class 'pandas.core.frame.DataFrame'>\n",
      "Index: 8780 entries, 1980-12-12 00:00:00 to 2015-10-05 00:00:00\n",
      "Data columns (total 15 columns):\n",
      " #   Column                 Non-Null Count  Dtype  \n",
      "---  ------                 --------------  -----  \n",
      " 0   open                   8780 non-null   float64\n",
      " 1   high                   8780 non-null   float64\n",
      " 2   low                    8780 non-null   float64\n",
      " 3   close                  8780 non-null   float64\n",
      " 4   adj_close              8780 non-null   float64\n",
      " 5   volume                 8780 non-null   float64\n",
      " 6   rsi                    8780 non-null   float64\n",
      " 7   macd                   8780 non-null   float64\n",
      " 8   macd_signal            8780 non-null   float64\n",
      " 9   ema_5                  8780 non-null   float64\n",
      " 10  ema_20                 8780 non-null   float64\n",
      " 11  ema_50                 8780 non-null   float64\n",
      " 12  stochastic_oscillator  8780 non-null   float64\n",
      " 13  cci                    8780 non-null   float64\n",
      " 14  roc                    8780 non-null   float64\n",
      "dtypes: float64(15)\n",
      "memory usage: 1.1+ MB\n"
     ]
    }
   ],
   "execution_count": 3
  },
  {
   "metadata": {
    "ExecuteTime": {
     "end_time": "2024-06-30T20:12:22.165487Z",
     "start_time": "2024-06-30T20:12:22.134242Z"
    }
   },
   "cell_type": "code",
   "source": "stockTrendPrediction.df_train",
   "id": "2098a0006fface7b",
   "outputs": [
    {
     "data": {
      "text/plain": [
       "                         open      high       low     close  adj_close  \\\n",
       "date                                                                     \n",
       "1980-12-12 00:00:00 -0.510608 -0.511630 -0.509478 -0.510659  -0.504037   \n",
       "1980-12-15 00:00:00 -0.511460 -0.512551 -0.510417 -0.511589  -0.504855   \n",
       "1980-12-16 00:00:00 -0.512699 -0.513779 -0.511669 -0.512829  -0.505945   \n",
       "1980-12-17 00:00:00 -0.512389 -0.513395 -0.511278 -0.512441  -0.505604   \n",
       "1980-12-18 00:00:00 -0.511924 -0.512934 -0.510808 -0.511976  -0.505195   \n",
       "...                       ...       ...       ...       ...        ...   \n",
       "2015-09-29 00:00:00  3.385676  3.374150  3.252590  3.257365   3.380921   \n",
       "2015-09-30 00:00:00  3.293400  3.306403  3.283080  3.300410   3.425270   \n",
       "2015-10-01 00:00:00  3.255241  3.240376  3.233314  3.275416   3.399519   \n",
       "2015-10-02 00:00:00  3.218469  3.288177  3.241725  3.303187   3.428132   \n",
       "2015-10-05 00:00:00  3.283340  3.300557  3.294995  3.317072   3.442438   \n",
       "\n",
       "                       volume       rsi      macd  macd_signal     ema_5  \\\n",
       "date                                                                       \n",
       "1980-12-12 00:00:00  0.277683  0.852341 -0.149748    -0.157971 -0.503910   \n",
       "1980-12-15 00:00:00 -0.546261  0.852341 -0.152780    -0.158609 -0.504183   \n",
       "1980-12-16 00:00:00 -0.743449  0.852341 -0.159165    -0.160462 -0.504729   \n",
       "1980-12-17 00:00:00 -0.797656  0.852341 -0.162796    -0.162708 -0.504979   \n",
       "1980-12-18 00:00:00 -0.834172  0.852341 -0.163976    -0.164753 -0.505009   \n",
       "...                       ...       ...       ...          ...       ...   \n",
       "2015-09-29 00:00:00 -0.215792 -0.309040 -0.875731    -0.738864  3.501445   \n",
       "2015-09-30 00:00:00 -0.293281 -0.496550 -1.193563    -0.842203  3.478104   \n",
       "2015-10-01 00:00:00 -0.321881 -0.887727 -1.526169    -0.994822  3.453946   \n",
       "2015-10-02 00:00:00 -0.388317 -0.948325 -1.664970    -1.146108  3.447393   \n",
       "2015-10-05 00:00:00 -0.455269 -1.069233 -1.703401    -1.275218  3.447801   \n",
       "\n",
       "                       ema_20    ema_50  stochastic_oscillator       cci  \\\n",
       "date                                                                       \n",
       "1980-12-12 00:00:00 -0.503424 -0.502803               1.389410 -1.201242   \n",
       "1980-12-15 00:00:00 -0.503502 -0.502836               1.389410 -1.201242   \n",
       "1980-12-16 00:00:00 -0.503678 -0.502911               1.389410 -1.201242   \n",
       "1980-12-17 00:00:00 -0.503804 -0.502970               1.389410 -1.201242   \n",
       "1980-12-18 00:00:00 -0.503879 -0.503009               1.389410 -1.201242   \n",
       "...                       ...       ...                    ...       ...   \n",
       "2015-09-29 00:00:00  3.561961  3.694639              -0.309098 -1.104784   \n",
       "2015-09-30 00:00:00  3.551784  3.687304              -0.125980 -1.144156   \n",
       "2015-10-01 00:00:00  3.540104  3.679225              -0.065242 -1.503562   \n",
       "2015-10-02 00:00:00  3.532283  3.672609               0.021459 -1.160323   \n",
       "2015-10-05 00:00:00  3.526579  3.666825               0.078324 -0.929554   \n",
       "\n",
       "                          roc  \n",
       "date                           \n",
       "1980-12-12 00:00:00  1.695017  \n",
       "1980-12-15 00:00:00  1.695017  \n",
       "1980-12-16 00:00:00  1.695017  \n",
       "1980-12-17 00:00:00  1.695017  \n",
       "1980-12-18 00:00:00  1.695017  \n",
       "...                       ...  \n",
       "2015-09-29 00:00:00 -0.568232  \n",
       "2015-09-30 00:00:00 -0.552198  \n",
       "2015-10-01 00:00:00 -0.690411  \n",
       "2015-10-02 00:00:00 -0.633651  \n",
       "2015-10-05 00:00:00 -0.397268  \n",
       "\n",
       "[8780 rows x 15 columns]"
      ],
      "text/html": [
       "<div>\n",
       "<style scoped>\n",
       "    .dataframe tbody tr th:only-of-type {\n",
       "        vertical-align: middle;\n",
       "    }\n",
       "\n",
       "    .dataframe tbody tr th {\n",
       "        vertical-align: top;\n",
       "    }\n",
       "\n",
       "    .dataframe thead th {\n",
       "        text-align: right;\n",
       "    }\n",
       "</style>\n",
       "<table border=\"1\" class=\"dataframe\">\n",
       "  <thead>\n",
       "    <tr style=\"text-align: right;\">\n",
       "      <th></th>\n",
       "      <th>open</th>\n",
       "      <th>high</th>\n",
       "      <th>low</th>\n",
       "      <th>close</th>\n",
       "      <th>adj_close</th>\n",
       "      <th>volume</th>\n",
       "      <th>rsi</th>\n",
       "      <th>macd</th>\n",
       "      <th>macd_signal</th>\n",
       "      <th>ema_5</th>\n",
       "      <th>ema_20</th>\n",
       "      <th>ema_50</th>\n",
       "      <th>stochastic_oscillator</th>\n",
       "      <th>cci</th>\n",
       "      <th>roc</th>\n",
       "    </tr>\n",
       "    <tr>\n",
       "      <th>date</th>\n",
       "      <th></th>\n",
       "      <th></th>\n",
       "      <th></th>\n",
       "      <th></th>\n",
       "      <th></th>\n",
       "      <th></th>\n",
       "      <th></th>\n",
       "      <th></th>\n",
       "      <th></th>\n",
       "      <th></th>\n",
       "      <th></th>\n",
       "      <th></th>\n",
       "      <th></th>\n",
       "      <th></th>\n",
       "      <th></th>\n",
       "    </tr>\n",
       "  </thead>\n",
       "  <tbody>\n",
       "    <tr>\n",
       "      <th>1980-12-12 00:00:00</th>\n",
       "      <td>-0.510608</td>\n",
       "      <td>-0.511630</td>\n",
       "      <td>-0.509478</td>\n",
       "      <td>-0.510659</td>\n",
       "      <td>-0.504037</td>\n",
       "      <td>0.277683</td>\n",
       "      <td>0.852341</td>\n",
       "      <td>-0.149748</td>\n",
       "      <td>-0.157971</td>\n",
       "      <td>-0.503910</td>\n",
       "      <td>-0.503424</td>\n",
       "      <td>-0.502803</td>\n",
       "      <td>1.389410</td>\n",
       "      <td>-1.201242</td>\n",
       "      <td>1.695017</td>\n",
       "    </tr>\n",
       "    <tr>\n",
       "      <th>1980-12-15 00:00:00</th>\n",
       "      <td>-0.511460</td>\n",
       "      <td>-0.512551</td>\n",
       "      <td>-0.510417</td>\n",
       "      <td>-0.511589</td>\n",
       "      <td>-0.504855</td>\n",
       "      <td>-0.546261</td>\n",
       "      <td>0.852341</td>\n",
       "      <td>-0.152780</td>\n",
       "      <td>-0.158609</td>\n",
       "      <td>-0.504183</td>\n",
       "      <td>-0.503502</td>\n",
       "      <td>-0.502836</td>\n",
       "      <td>1.389410</td>\n",
       "      <td>-1.201242</td>\n",
       "      <td>1.695017</td>\n",
       "    </tr>\n",
       "    <tr>\n",
       "      <th>1980-12-16 00:00:00</th>\n",
       "      <td>-0.512699</td>\n",
       "      <td>-0.513779</td>\n",
       "      <td>-0.511669</td>\n",
       "      <td>-0.512829</td>\n",
       "      <td>-0.505945</td>\n",
       "      <td>-0.743449</td>\n",
       "      <td>0.852341</td>\n",
       "      <td>-0.159165</td>\n",
       "      <td>-0.160462</td>\n",
       "      <td>-0.504729</td>\n",
       "      <td>-0.503678</td>\n",
       "      <td>-0.502911</td>\n",
       "      <td>1.389410</td>\n",
       "      <td>-1.201242</td>\n",
       "      <td>1.695017</td>\n",
       "    </tr>\n",
       "    <tr>\n",
       "      <th>1980-12-17 00:00:00</th>\n",
       "      <td>-0.512389</td>\n",
       "      <td>-0.513395</td>\n",
       "      <td>-0.511278</td>\n",
       "      <td>-0.512441</td>\n",
       "      <td>-0.505604</td>\n",
       "      <td>-0.797656</td>\n",
       "      <td>0.852341</td>\n",
       "      <td>-0.162796</td>\n",
       "      <td>-0.162708</td>\n",
       "      <td>-0.504979</td>\n",
       "      <td>-0.503804</td>\n",
       "      <td>-0.502970</td>\n",
       "      <td>1.389410</td>\n",
       "      <td>-1.201242</td>\n",
       "      <td>1.695017</td>\n",
       "    </tr>\n",
       "    <tr>\n",
       "      <th>1980-12-18 00:00:00</th>\n",
       "      <td>-0.511924</td>\n",
       "      <td>-0.512934</td>\n",
       "      <td>-0.510808</td>\n",
       "      <td>-0.511976</td>\n",
       "      <td>-0.505195</td>\n",
       "      <td>-0.834172</td>\n",
       "      <td>0.852341</td>\n",
       "      <td>-0.163976</td>\n",
       "      <td>-0.164753</td>\n",
       "      <td>-0.505009</td>\n",
       "      <td>-0.503879</td>\n",
       "      <td>-0.503009</td>\n",
       "      <td>1.389410</td>\n",
       "      <td>-1.201242</td>\n",
       "      <td>1.695017</td>\n",
       "    </tr>\n",
       "    <tr>\n",
       "      <th>...</th>\n",
       "      <td>...</td>\n",
       "      <td>...</td>\n",
       "      <td>...</td>\n",
       "      <td>...</td>\n",
       "      <td>...</td>\n",
       "      <td>...</td>\n",
       "      <td>...</td>\n",
       "      <td>...</td>\n",
       "      <td>...</td>\n",
       "      <td>...</td>\n",
       "      <td>...</td>\n",
       "      <td>...</td>\n",
       "      <td>...</td>\n",
       "      <td>...</td>\n",
       "      <td>...</td>\n",
       "    </tr>\n",
       "    <tr>\n",
       "      <th>2015-09-29 00:00:00</th>\n",
       "      <td>3.385676</td>\n",
       "      <td>3.374150</td>\n",
       "      <td>3.252590</td>\n",
       "      <td>3.257365</td>\n",
       "      <td>3.380921</td>\n",
       "      <td>-0.215792</td>\n",
       "      <td>-0.309040</td>\n",
       "      <td>-0.875731</td>\n",
       "      <td>-0.738864</td>\n",
       "      <td>3.501445</td>\n",
       "      <td>3.561961</td>\n",
       "      <td>3.694639</td>\n",
       "      <td>-0.309098</td>\n",
       "      <td>-1.104784</td>\n",
       "      <td>-0.568232</td>\n",
       "    </tr>\n",
       "    <tr>\n",
       "      <th>2015-09-30 00:00:00</th>\n",
       "      <td>3.293400</td>\n",
       "      <td>3.306403</td>\n",
       "      <td>3.283080</td>\n",
       "      <td>3.300410</td>\n",
       "      <td>3.425270</td>\n",
       "      <td>-0.293281</td>\n",
       "      <td>-0.496550</td>\n",
       "      <td>-1.193563</td>\n",
       "      <td>-0.842203</td>\n",
       "      <td>3.478104</td>\n",
       "      <td>3.551784</td>\n",
       "      <td>3.687304</td>\n",
       "      <td>-0.125980</td>\n",
       "      <td>-1.144156</td>\n",
       "      <td>-0.552198</td>\n",
       "    </tr>\n",
       "    <tr>\n",
       "      <th>2015-10-01 00:00:00</th>\n",
       "      <td>3.255241</td>\n",
       "      <td>3.240376</td>\n",
       "      <td>3.233314</td>\n",
       "      <td>3.275416</td>\n",
       "      <td>3.399519</td>\n",
       "      <td>-0.321881</td>\n",
       "      <td>-0.887727</td>\n",
       "      <td>-1.526169</td>\n",
       "      <td>-0.994822</td>\n",
       "      <td>3.453946</td>\n",
       "      <td>3.540104</td>\n",
       "      <td>3.679225</td>\n",
       "      <td>-0.065242</td>\n",
       "      <td>-1.503562</td>\n",
       "      <td>-0.690411</td>\n",
       "    </tr>\n",
       "    <tr>\n",
       "      <th>2015-10-02 00:00:00</th>\n",
       "      <td>3.218469</td>\n",
       "      <td>3.288177</td>\n",
       "      <td>3.241725</td>\n",
       "      <td>3.303187</td>\n",
       "      <td>3.428132</td>\n",
       "      <td>-0.388317</td>\n",
       "      <td>-0.948325</td>\n",
       "      <td>-1.664970</td>\n",
       "      <td>-1.146108</td>\n",
       "      <td>3.447393</td>\n",
       "      <td>3.532283</td>\n",
       "      <td>3.672609</td>\n",
       "      <td>0.021459</td>\n",
       "      <td>-1.160323</td>\n",
       "      <td>-0.633651</td>\n",
       "    </tr>\n",
       "    <tr>\n",
       "      <th>2015-10-05 00:00:00</th>\n",
       "      <td>3.283340</td>\n",
       "      <td>3.300557</td>\n",
       "      <td>3.294995</td>\n",
       "      <td>3.317072</td>\n",
       "      <td>3.442438</td>\n",
       "      <td>-0.455269</td>\n",
       "      <td>-1.069233</td>\n",
       "      <td>-1.703401</td>\n",
       "      <td>-1.275218</td>\n",
       "      <td>3.447801</td>\n",
       "      <td>3.526579</td>\n",
       "      <td>3.666825</td>\n",
       "      <td>0.078324</td>\n",
       "      <td>-0.929554</td>\n",
       "      <td>-0.397268</td>\n",
       "    </tr>\n",
       "  </tbody>\n",
       "</table>\n",
       "<p>8780 rows × 15 columns</p>\n",
       "</div>"
      ]
     },
     "execution_count": 4,
     "metadata": {},
     "output_type": "execute_result"
    }
   ],
   "execution_count": 4
  },
  {
   "metadata": {
    "ExecuteTime": {
     "end_time": "2024-06-30T20:12:22.181119Z",
     "start_time": "2024-06-30T20:12:22.165487Z"
    }
   },
   "cell_type": "code",
   "source": "# stockTrendPrediction.df_test.reset_index(inplace=True,drop=True)",
   "id": "fe94c1f3ce3641e6",
   "outputs": [],
   "execution_count": 5
  },
  {
   "metadata": {
    "ExecuteTime": {
     "end_time": "2024-06-30T20:12:22.197177Z",
     "start_time": "2024-06-30T20:12:22.181119Z"
    }
   },
   "cell_type": "code",
   "source": "# stockTrendPrediction.df_test.head()",
   "id": "93ee9cd480fbf9c0",
   "outputs": [],
   "execution_count": 6
  },
  {
   "metadata": {
    "ExecuteTime": {
     "end_time": "2024-06-30T20:12:22.244071Z",
     "start_time": "2024-06-30T20:12:22.197177Z"
    }
   },
   "cell_type": "code",
   "source": [
    "X_train, y_train = stockTrendPrediction.create_sequences(stockTrendPrediction.df_train)\n",
    "X_test, y_test = stockTrendPrediction.create_sequences(stockTrendPrediction.df_test)"
   ],
   "id": "430be105368930bd",
   "outputs": [],
   "execution_count": 7
  },
  {
   "metadata": {
    "ExecuteTime": {
     "end_time": "2024-06-30T20:12:22.259697Z",
     "start_time": "2024-06-30T20:12:22.244071Z"
    }
   },
   "cell_type": "code",
   "source": [
    "print(X_train.shape, y_train.shape)\n",
    "print(X_test.shape, y_test.shape)"
   ],
   "id": "eb16e52fe63c898d",
   "outputs": [
    {
     "name": "stdout",
     "output_type": "stream",
     "text": [
      "(8720, 60, 15) (8720,)\n",
      "(2135, 60, 15) (2135,)\n"
     ]
    }
   ],
   "execution_count": 8
  },
  {
   "metadata": {},
   "cell_type": "code",
   "source": [
    "stockTrendPrediction.build_model()\n",
    "stockTrendPrediction.model.summary()"
   ],
   "id": "9d39d88a46bf3474",
   "outputs": [],
   "execution_count": null
  },
  {
   "metadata": {},
   "cell_type": "code",
   "source": "stockTrendPrediction.hypertune_model(X_train, y_train, X_test, y_test)",
   "id": "67a16f69873b94ef",
   "execution_count": 10,
   "outputs": [
    {
     "name": "stdout",
     "output_type": "stream",
     "text": [
      "Trial 10 Complete [00h 03m 22s]\n",
      "val_loss: 0.016206849366426468\n",
      "\n",
      "Best val_loss So Far: 0.012593582272529602\n",
      "Total elapsed time: 00h 34m 10s\n",
      "67/67 [==============================] - 1s 10ms/step - loss: 0.8070\n",
      "Best model loss: 0.8070216178894043\n"
     ]
    }
   ]
  },
  {
   "metadata": {
    "ExecuteTime": {
     "end_time": "2024-06-30T20:12:59.531025Z",
     "start_time": "2024-06-30T20:12:53.654639Z"
    }
   },
   "cell_type": "code",
   "source": "test_prediction = stockTrendPrediction.predict(X_test)",
   "id": "ecfc87958c2c2cad",
   "outputs": [
    {
     "name": "stdout",
     "output_type": "stream",
     "text": [
      "WARNING:tensorflow:Error in loading the saved optimizer state. As a result, your model is starting with a freshly initialized optimizer.\n",
      "67/67 [==============================] - 4s 8ms/step\n"
     ]
    }
   ],
   "execution_count": 10
  },
  {
   "metadata": {
    "ExecuteTime": {
     "end_time": "2024-06-30T20:13:06.175179Z",
     "start_time": "2024-06-30T20:13:05.515546Z"
    }
   },
   "cell_type": "code",
   "source": [
    "import matplotlib.pyplot as plt\n",
    "\n",
    "plt.plot(y_test)\n",
    "plt.plot(test_prediction)"
   ],
   "id": "6d16dc73bf3482c7",
   "outputs": [
    {
     "data": {
      "text/plain": [
       "[<matplotlib.lines.Line2D at 0x17bc261c5b0>]"
      ]
     },
     "execution_count": 11,
     "metadata": {},
     "output_type": "execute_result"
    },
    {
     "data": {
      "text/plain": [
       "<Figure size 640x480 with 1 Axes>"
      ],
      "image/png": "[encoded data removed]"
     },
     "metadata": {},
     "output_type": "display_data"
    }
   ],
   "execution_count": 11
  },
  {
   "metadata": {},
   "cell_type": "code",
   "source": [
    "from services.StockTrendPrediction import StockTrendPrediction\n",
    "\n",
    "stockTrendPrediction = StockTrendPrediction(10)\n",
    "\n",
    "test_pred, y_test = stockTrendPrediction.train_and_predict('MSFT')\n",
    "\n"
   ],
   "id": "f997daaca8124dde",
   "execution_count": 1,
   "outputs": [
    {
     "name": "stdout",
     "output_type": "stream",
     "text": [
      "Trial 10 Complete [00h 00m 29s]\n",
      "val_loss: 0.07408101856708527\n",
      "\n",
      "Best val_loss So Far: 0.024115750566124916\n",
      "Total elapsed time: 00h 04m 06s\n"
     ]
    },
    {
     "name": "stderr",
     "output_type": "stream",
     "text": [
      "c:\\Users\\ujaso\\anaconda3\\envs\\py310\\lib\\site-packages\\keras\\src\\saving\\saving_lib.py:576: UserWarning: Skipping variable loading for optimizer 'adam', because it has 2 variables whereas the saved optimizer has 26 variables. \n",
      "  saveable.load_own_variables(weights_store.get(inner_path))\n"
     ]
    },
    {
     "name": "stdout",
     "output_type": "stream",
     "text": [
      "\u001B[1m2/2\u001B[0m \u001B[32m━━━━━━━━━━━━━━━━━━━━\u001B[0m\u001B[37m\u001B[0m \u001B[1m0s\u001B[0m 16ms/step - loss: 0.0181 \n"
     ]
    },
    {
     "name": "stderr",
     "output_type": "stream",
     "text": [
      "WARNING:absl:You are saving your model as an HDF5 file via `model.save()` or `keras.saving.save_model(model)`. This file format is considered legacy. We recommend using instead the native Keras format, e.g. `model.save('my_model.keras')` or `keras.saving.save_model(model, 'my_model.keras')`. \n"
     ]
    },
    {
     "name": "stdout",
     "output_type": "stream",
     "text": [
      "Best model loss: 0.02108650840818882\n",
      "\u001B[1m2/2\u001B[0m \u001B[32m━━━━━━━━━━━━━━━━━━━━\u001B[0m\u001B[37m\u001B[0m \u001B[1m1s\u001B[0m 282ms/step\n"
     ]
    }
   ]
  },
  {
   "metadata": {
    "ExecuteTime": {
     "end_time": "2024-07-31T14:54:00.919653Z",
     "start_time": "2024-07-31T14:54:00.642246Z"
    }
   },
   "cell_type": "code",
   "source": [
    "import seaborn as sns\n",
    "sns.lineplot(data=test_pred)\n",
    "sns.lineplot(data=y_test)"
   ],
   "id": "c2d13d13f57bb223",
   "outputs": [
    {
     "data": {
      "text/plain": [
       "<Axes: >"
      ]
     },
     "execution_count": 3,
     "metadata": {},
     "output_type": "execute_result"
    },
    {
     "data": {
      "text/plain": [
       "<Figure size 640x480 with 1 Axes>"
      ],
      "image/png": "[encoded data removed]"
     },
     "metadata": {},
     "output_type": "display_data"
    }
   ],
   "execution_count": 3
  },
  {
   "metadata": {},
   "cell_type": "code",
   "outputs": [],
   "execution_count": null,
   "source": "",
   "id": "c98f6e4a588f5850"
  }
 ],
 "metadata": {
  "kernelspec": {
   "display_name": "Python 3",
   "language": "python",
   "name": "python3"
  },
  "language_info": {
   "codemirror_mode": {
    "name": "ipython",
    "version": 2
   },
   "file_extension": ".py",
   "mimetype": "text/x-python",
   "name": "python",
   "nbconvert_exporter": "python",
   "pygments_lexer": "ipython2",
   "version": "2.7.6"
  }
 },
 "nbformat": 4,
 "nbformat_minor": 5
}
