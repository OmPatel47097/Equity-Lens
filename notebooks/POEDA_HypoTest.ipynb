{
 "cells": [
  {
   "metadata": {},
   "cell_type": "markdown",
   "source": "",
   "id": "6fc91c22d7ab3e02"
  },
  {
   "cell_type": "markdown",
   "id": "3704d4dd6b126127",
   "metadata": {},
   "source": [
    "# EDA and Hypotheses Testing on Portfolio Optimization"
   ]
  },
  {
   "cell_type": "markdown",
   "id": "60139c0a726bc960",
   "metadata": {},
   "source": [
    "\n",
    "1. S&P500 vs Portfolio(Non-Optimized)\n",
    "2. S&P500 vs Portfolio(Optimized)\n",
    "3. Portfolio(Non-Optimized) vs Portfolio(Optimized)\n",
    "4. Benchmarking the Portfolio(Non-Optimized) with S&P500"
   ]
  },
  {
   "cell_type": "code",
   "id": "20106cd88d58ce83",
   "metadata": {
    "ExecuteTime": {
     "end_time": "2024-08-06T22:13:03.289339Z",
     "start_time": "2024-08-06T22:13:03.226843Z"
    }
   },
   "source": [
    "import pandas as pd\n",
    "import yfinance as yf\n",
    "from services.BlackLittermanOptimization import BlackLittermanOptimization\n",
    "from utils.StockDataManager import StockDataManager\n",
    "import warnings\n",
    "import plotly.graph_objects as go\n",
    "\n",
    "warnings.filterwarnings('ignore')"
   ],
   "execution_count": 4,
   "outputs": []
  },
  {
   "cell_type": "code",
   "id": "3f563f29112e4207",
   "metadata": {
    "ExecuteTime": {
     "end_time": "2024-07-31T14:20:41.345621Z",
     "start_time": "2024-07-31T14:20:41.314368Z"
    }
   },
   "source": [
    "import random\n",
    "\n",
    "def generate_random_tickers(): \n",
    "    stockDataManager = StockDataManager()\n",
    "    return random.sample(stockDataManager.get_symbols(), random.randint(5, 10))\n",
    "\n",
    "tickers = generate_random_tickers()\n",
    "print(tickers)  \n",
    "period = '5y'\n",
    "capital = 100000\n",
    "interval = '1d'"
   ],
   "execution_count": 18,
   "outputs": []
  },
  {
   "metadata": {
    "ExecuteTime": {
     "end_time": "2024-07-31T14:20:41.354947Z",
     "start_time": "2024-07-31T14:20:41.345621Z"
    }
   },
   "cell_type": "code",
   "source": "stdm = StockDataManager()\n",
   "id": "838f66f68f485aa8",
   "execution_count": 19,
   "outputs": []
  },
  {
   "metadata": {},
   "cell_type": "markdown",
   "source": "## S&P500 vs Portfolio(Non-Optimized)",
   "id": "2c08d320f060f19c"
  },
  {
   "cell_type": "code",
   "id": "92462267583e9576",
   "metadata": {
    "ExecuteTime": {
     "end_time": "2024-07-31T14:20:41.402255Z",
     "start_time": "2024-07-31T14:20:41.387230Z"
    }
   },
   "source": [
    "def get_cumulative_returns(tickers, period, interval='1d'):\n",
    "    stockDataManager = StockDataManager()\n",
    "\n",
    "    # Fetch historical data for the portfolio\n",
    "    portfolio_data_list = [stockDataManager.history(ticker=symbol, period=period, interval=interval)[['adj_close']] for\n",
    "                           symbol in tickers]\n",
    "    portfolio_data = pd.concat(portfolio_data_list, axis=1, keys=[symbol for symbol in tickers])\n",
    "    portfolio_data.columns = portfolio_data.columns.droplevel(1)\n",
    "    portfolio_data = portfolio_data.ffill().bfill()\n",
    "    portfolio_data = portfolio_data.dropna()\n",
    "    mean_portfolio_data = portfolio_data.mean(axis=1)\n",
    "\n",
    "    # Fetch historical data for S&P 500, matching the dates with portfolio\n",
    "    sp500_data = yf.download('^GSPC', period=period, interval=interval)['Adj Close']\n",
    "    sp500_data = sp500_data.reindex(mean_portfolio_data.index).ffill().bfill()\n",
    "\n",
    "    # Calculate cumulative returns\n",
    "    portfolio_cumulative_returns = (mean_portfolio_data / mean_portfolio_data.iloc[0] - 1)\n",
    "    sp500_cumulative_returns = (sp500_data / sp500_data.iloc[0] - 1) \n",
    "\n",
    "    return portfolio_cumulative_returns, sp500_cumulative_returns"
   ],
   "execution_count": 20,
   "outputs": []
  },
  {
   "cell_type": "code",
   "id": "21b62e060c3b9fb8",
   "metadata": {
    "ExecuteTime": {
     "end_time": "2024-07-31T14:20:41.464774Z",
     "start_time": "2024-07-31T14:20:41.433522Z"
    }
   },
   "source": [
    "def get_equal_weight_cumulative_returns(tickers, period, interval='1d'):\n",
    "    stockDataManager = StockDataManager()\n",
    "\n",
    "    # Fetch historical data for the portfolio\n",
    "    portfolio_data_list = [stockDataManager.history(ticker=symbol, period=period, interval=interval)[['adj_close']] for symbol in tickers]\n",
    "    portfolio_data = pd.concat(portfolio_data_list, axis=1, keys=[symbol for symbol in tickers])\n",
    "    portfolio_data.columns = portfolio_data.columns.droplevel(1)\n",
    "    portfolio_data = portfolio_data.ffill().bfill()\n",
    "    portfolio_data = portfolio_data.dropna()\n",
    "\n",
    "    # Calculate daily returns\n",
    "    daily_returns = portfolio_data.pct_change().dropna()\n",
    "\n",
    "    # Fetch historical data for S&P 500, matching the dates with portfolio\n",
    "    sp500_data = yf.download('^GSPC', period=period, interval=interval)['Adj Close']\n",
    "    sp500_data = sp500_data.reindex(daily_returns.index).ffill().bfill()\n",
    "\n",
    "    # Get optimized weights from Black-Litterman model\n",
    "    weights = [1 / len(tickers) for i in range(len(tickers))]\n",
    "    print(weights)\n",
    "\n",
    "    # Calculate daily portfolio returns using optimized weights\n",
    "    portfolio_daily_returns = daily_returns.dot(weights)\n",
    "\n",
    "    # Calculate cumulative returns\n",
    "    portfolio_cumulative_returns = (1 + portfolio_daily_returns).cumprod() - 1\n",
    "    sp500_cumulative_returns = (1 + sp500_data.pct_change().dropna()).cumprod() - 1\n",
    "\n",
    "    portfolio_cumulative_returns.index = portfolio_cumulative_returns.index.astype(str)\n",
    "    sp500_cumulative_returns.index = sp500_cumulative_returns.index.astype(str)\n",
    "\n",
    "    return portfolio_cumulative_returns, sp500_cumulative_returns"
   ],
   "execution_count": 21,
   "outputs": []
  },
  {
   "cell_type": "code",
   "id": "15af93587432bbd5",
   "metadata": {
    "ExecuteTime": {
     "end_time": "2024-07-31T14:20:41.496444Z",
     "start_time": "2024-07-31T14:20:41.487420Z"
    }
   },
   "source": [
    "def plot_cumulative_returns(legend_1,portfolio_cumulative_returns,legend_2, sp500_cumulative_returns):\n",
    "    title = f'{legend_1} Vs. {legend_2}'\n",
    "    fig = go.Figure()\n",
    "    fig.add_trace(go.Scatter(x=portfolio_cumulative_returns.index, y=portfolio_cumulative_returns, mode='lines',name=legend_1))\n",
    "    fig.add_trace(go.Scatter(x=sp500_cumulative_returns.index, y=sp500_cumulative_returns, mode='lines', name=legend_2))\n",
    "    fig.update_layout(title=title, xaxis_title='Date', yaxis_title='Cumulative Returns (%)', height=600,  # Set the height of the plot\n",
    "    width=800 )\n",
    "    fig.show()"
   ],
   "execution_count": 22,
   "outputs": []
  },
  {
   "cell_type": "code",
   "id": "6cd89c0bbb8c74b8",
   "metadata": {
    "ExecuteTime": {
     "end_time": "2024-07-31T14:20:42.656660Z",
     "start_time": "2024-07-31T14:20:41.574592Z"
    }
   },
   "source": [
    "non_optimized_portfolio_cumulative_returns, sp500_cumulative_returns = get_cumulative_returns(tickers, period)\n",
    "plot_cumulative_returns(\"Non-optimized\", non_optimized_portfolio_cumulative_returns, \"S&P 500\",sp500_cumulative_returns)"
   ],
   "execution_count": 23,
   "outputs": []
  },
  {
   "cell_type": "markdown",
   "id": "8820093105f74595",
   "metadata": {},
   "source": [
    "## S&P500 vs Portfolio(Optimized)"
   ]
  },
  {
   "cell_type": "code",
   "id": "38af56ac36aa9dec",
   "metadata": {
    "ExecuteTime": {
     "end_time": "2024-07-31T14:20:42.672268Z",
     "start_time": "2024-07-31T14:20:42.656660Z"
    }
   },
   "source": [
    "def get_optimized_cumulative_returns(tickers, period, capital, interval='1d'):\n",
    "    stockDataManager = StockDataManager()\n",
    "\n",
    "    # Fetch historical data for the portfolio\n",
    "    portfolio_data_list = [stockDataManager.history(ticker=symbol, period=period, interval=interval)[['adj_close']] for\n",
    "                           symbol in tickers]\n",
    "    portfolio_data = pd.concat(portfolio_data_list, axis=1, keys=[symbol for symbol in tickers])\n",
    "    portfolio_data.columns = portfolio_data.columns.droplevel(1)\n",
    "    portfolio_data = portfolio_data.ffill()\n",
    "    portfolio_data = portfolio_data.bfill()\n",
    "    portfolio_data = portfolio_data.dropna()\n",
    "\n",
    "    # Calculate daily returns\n",
    "    daily_returns = portfolio_data.pct_change().dropna()\n",
    "\n",
    "    # Fetch historical data for S&P 500, matching the dates with portfolio\n",
    "    sp500_data = yf.download('^GSPC', period=period, interval=interval)['Adj Close']\n",
    "    sp500_data = sp500_data.reindex(daily_returns.index).ffill()\n",
    "    sp500_data = sp500_data.bfill()\n",
    "\n",
    "    # Get optimized weights from Black-Litterman model\n",
    "    bl = BlackLittermanOptimization()\n",
    "    output = bl.calculate_portfolio_value(capital, tickers)\n",
    "    weights = [obj['weight'] for obj in output]\n",
    "    print(weights)\n",
    "\n",
    "    # Calculate daily portfolio returns using optimized weights\n",
    "    portfolio_daily_returns = daily_returns.dot(weights)\n",
    "\n",
    "    # Calculate cumulative returns\n",
    "    portfolio_cumulative_returns = (1 + portfolio_daily_returns).cumprod() - 1\n",
    "    sp500_cumulative_returns = (1 + sp500_data.pct_change().dropna()).cumprod() - 1\n",
    "\n",
    "    return portfolio_cumulative_returns, sp500_cumulative_returns\n"
   ],
   "execution_count": 24,
   "outputs": []
  },
  {
   "cell_type": "code",
   "id": "9d951ae7fa884a68",
   "metadata": {
    "ExecuteTime": {
     "end_time": "2024-07-31T14:21:07.791162Z",
     "start_time": "2024-07-31T14:20:42.672268Z"
    }
   },
   "source": [
    "optimized_portfolio_cumulative_returns, sp500_cumulative_returns = get_optimized_cumulative_returns(tickers, period, capital, interval)\n",
    "plot_cumulative_returns(\"Optimized\", optimized_portfolio_cumulative_returns, \"S&P 500\",sp500_cumulative_returns)"
   ],
   "execution_count": 25,
   "outputs": []
  },
  {
   "cell_type": "markdown",
   "id": "852eb7708c3d1b15",
   "metadata": {},
   "source": [
    "## Portfolio(Non-Optimized) vs Portfolio(Optimized)"
   ]
  },
  {
   "cell_type": "code",
   "id": "9a2f625cba674232",
   "metadata": {
    "ExecuteTime": {
     "end_time": "2024-07-31T14:21:07.822448Z",
     "start_time": "2024-07-31T14:21:07.791162Z"
    }
   },
   "source": [
    "plot_cumulative_returns(\"Non-Optimized\", non_optimized_portfolio_cumulative_returns, \"Optimized\",optimized_portfolio_cumulative_returns)"
   ],
   "execution_count": 26,
   "outputs": []
  },
  {
   "cell_type": "markdown",
   "id": "302795e731e4f925",
   "metadata": {},
   "source": []
  },
  {
   "cell_type": "code",
   "id": "141ffa5a48224e42",
   "metadata": {
    "ExecuteTime": {
     "end_time": "2024-07-31T14:21:07.839061Z",
     "start_time": "2024-07-31T14:21:07.822448Z"
    }
   },
   "source": [
    "from datetime import datetime\n",
    "\n",
    "\n",
    "def calculate_avg_yearly_return(cumulative_returns):\n",
    "    date_format = \"%Y-%m-%d %H:%M:%S\"\n",
    "    start_date = datetime.strptime(cumulative_returns.index.min(), date_format)\n",
    "    end_date = datetime.strptime(cumulative_returns.index.max(), date_format)\n",
    "    no_years = (end_date - start_date).days / 356\n",
    "    opt_cumm_prot_return = cumulative_returns[-1]\n",
    "    annualized_port_return = (1 + opt_cumm_prot_return) ** (1 / no_years) - 1\n",
    "    annualized_port_return = annualized_port_return * 100\n",
    "    return annualized_port_return"
   ],
   "execution_count": 27,
   "outputs": []
  },
  {
   "cell_type": "code",
   "id": "aade81e375d4daac",
   "metadata": {
    "ExecuteTime": {
     "end_time": "2024-07-31T14:21:07.854376Z",
     "start_time": "2024-07-31T14:21:07.841068Z"
    }
   },
   "source": [
    "print(\"Non-optimized weight avg return: \", calculate_avg_yearly_return(non_optimized_portfolio_cumulative_returns))\n",
    "print(\"Optimized weight avg return: \", calculate_avg_yearly_return(optimized_portfolio_cumulative_returns))\n",
    "print(\"SP500 avg return: \", calculate_avg_yearly_return(sp500_cumulative_returns))"
   ],
   "execution_count": 28,
   "outputs": []
  },
  {
   "metadata": {
    "ExecuteTime": {
     "end_time": "2024-07-31T14:21:28.748050Z",
     "start_time": "2024-07-31T14:21:07.856363Z"
    }
   },
   "cell_type": "code",
   "source": [
    "# Check correlation for all returns\n",
    "get_optimized_cumulative_returns(tickers, period, capital)"
   ],
   "id": "d070e412feb28055",
   "execution_count": 29,
   "outputs": []
  },
  {
   "cell_type": "markdown",
   "id": "6e67bb9e1f5654f",
   "metadata": {},
   "source": [
    "## Test for N number of times"
   ]
  },
  {
   "cell_type": "code",
   "id": "9722232b079a4a89",
   "metadata": {
    "ExecuteTime": {
     "end_time": "2024-07-31T14:25:10.087137Z",
     "start_time": "2024-07-31T14:21:28.748050Z"
    }
   },
   "source": [
    "def test_hypothesis(n_trials):\n",
    "    data = {}\n",
    "    for i in range(n_trials):\n",
    "        tickers = generate_random_tickers()\n",
    "        print(tickers)\n",
    "        non_optimized_po_returns, _ = get_cumulative_returns(tickers, period)\n",
    "        optimized_po_returns, sp500_returns = get_optimized_cumulative_returns(tickers, period, capital)\n",
    "        sp500_avg_return = calculate_avg_yearly_return(sp500_returns)\n",
    "        non_optimized_po_avg_return = calculate_avg_yearly_return(non_optimized_po_returns)\n",
    "        opt_po_avg_return = calculate_avg_yearly_return(optimized_po_returns)\n",
    "        data[i] = {\n",
    "            'non_opt_po_avg_returns': non_optimized_po_avg_return,\n",
    "            'opt_po_avg_return': opt_po_avg_return,\n",
    "            'sp500_avg_return': sp500_avg_return,\n",
    "            'tickers': ', '.join(tickers)\n",
    "        }\n",
    "    return data\n",
    "      \n",
    "data = test_hypothesis(10)  \n",
    "df_test = pd.DataFrame.from_dict(data, orient='index')"
   ],
   "execution_count": 30,
   "outputs": []
  },
  {
   "cell_type": "code",
   "id": "779c28be34e1d6f",
   "metadata": {
    "ExecuteTime": {
     "end_time": "2024-07-31T14:25:10.118795Z",
     "start_time": "2024-07-31T14:25:10.088647Z"
    }
   },
   "source": [
    "df_test"
   ],
   "execution_count": 31,
   "outputs": []
  },
  {
   "cell_type": "markdown",
   "id": "d60579d2d2273d45",
   "metadata": {},
   "source": [
    "## Hypotheses Testing:\n",
    "\n",
    "Comparing the performance of the Black-Litterman model with the performance of market benchmarks such as the S&P 500 and the NASDAQ 100.\n",
    "\n",
    "**Hypothesies:**\n",
    "\n",
    "H0 (Null Hypotheses): There is no significant difference between the return of S&P500 and The Optimized Portfolio.\n",
    "\n",
    "H1 (Alternative Hypotheses): There is significant difference between the returns of S&P500 and The Optimized Portfolio.\n"
   ]
  },
  {
   "cell_type": "code",
   "id": "7183b96181da05ae",
   "metadata": {
    "ExecuteTime": {
     "end_time": "2024-07-31T14:25:10.134420Z",
     "start_time": "2024-07-31T14:25:10.118795Z"
    }
   },
   "source": [
    "# applying statistical tests like t-test\n",
    "from scipy.stats import ttest_ind\n",
    "\n",
    "t_test, p_value = ttest_ind(optimized_portfolio_cumulative_returns,\n",
    "                            sp500_cumulative_returns)  # perform t-test operations.\n",
    "print(f\"T-Statistic: \")\n",
    "print(t_test)\n",
    "print(f\"P-Value: \")\n",
    "print(p_value)"
   ],
   "execution_count": 32,
   "outputs": []
  },
  {
   "metadata": {},
   "cell_type": "code",
   "execution_count": null,
   "source": "",
   "id": "64e7a1ccadd2e019",
   "outputs": []
  },
  {
   "cell_type": "markdown",
   "id": "a757b389e92d14a0",
   "metadata": {},
   "source": [
    "So, the results suggests that we have to reject the null hypotheses as the p-value is significantly lower then 0.05 which is typically the threshold for rejecting the null hypotheses. This means that the optimized portfolio returns are significantly different from the S&P 500 returns."
   ]
  },
  {
   "cell_type": "code",
   "id": "fd3051e35c164fca",
   "metadata": {
    "ExecuteTime": {
     "end_time": "2024-07-31T14:25:10.150044Z",
     "start_time": "2024-07-31T14:25:10.134420Z"
    }
   },
   "source": [],
   "execution_count": 32,
   "outputs": []
  },
  {
   "cell_type": "markdown",
   "id": "d652c1edc0ebc965",
   "metadata": {},
   "source": [
    "# --------------------------- END OF THE NOTEBOOK --------------------------- #"
   ]
  }
 ],
 "metadata": {
  "kernelspec": {
   "display_name": "Python 3 (ipykernel)",
   "language": "python",
   "name": "python3"
  },
  "language_info": {
   "codemirror_mode": {
    "name": "ipython",
    "version": 3
   },
   "file_extension": ".py",
   "mimetype": "text/x-python",
   "name": "python",
   "nbconvert_exporter": "python",
   "pygments_lexer": "ipython3",
   "version": "3.10.14"
  }
 },
 "nbformat": 4,
 "nbformat_minor": 5
}
