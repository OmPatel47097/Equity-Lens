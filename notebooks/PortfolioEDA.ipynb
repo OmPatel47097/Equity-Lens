{
 "cells": [
  {
   "metadata": {},
   "cell_type": "markdown",
   "source": "",
   "id": "ead86c54c22aa09d"
  },
  {
   "metadata": {},
   "cell_type": "markdown",
   "source": [
    "# Comprehensive Stock Portfolio Analysis\n",
    "\n",
    "This notebook provides an extensive analysis of a stock portfolio, including performance, risk, asset allocation, correlation, and benchmark comparison. The analysis is visualized to make the information easily understandable.\n"
   ],
   "id": "981090445747dd9e"
  },
  {
   "metadata": {},
   "cell_type": "markdown",
   "source": [
    "## 1. Data Collection\n",
    "\n",
    "In this section, we collect historical stock price data using `yfinance`.\n"
   ],
   "id": "4f75f260a82b4492"
  },
  {
   "metadata": {
    "ExecuteTime": {
     "end_time": "2024-07-29T18:26:25.087398Z",
     "start_time": "2024-07-29T18:26:22.602317Z"
    }
   },
   "cell_type": "code",
   "source": [
    "import pandas as pd\n",
    "import yfinance as yf\n",
    "from datetime import datetime\n",
    "\n",
    "# Define the portfolio\n",
    "portfolio = {\n",
    "    'NVDA': {'shares': 10, 'avg_price': 150},\n",
    "    'MSFT': {'shares': 15, 'avg_price': 200},\n",
    "    'GOOGL': {'shares': 8, 'avg_price': 1200}\n",
    "}\n",
    "\n",
    "# Fetch historical data\n",
    "symbols = list(portfolio.keys())\n",
    "start_date = \"2020-01-01\"\n",
    "end_date = datetime.today().strftime('%Y-%m-%d')\n",
    "data = yf.download(symbols, start=start_date, end=end_date)['Adj Close']\n",
    "\n",
    "# Display the first few rows of the data\n",
    "data.head()\n"
   ],
   "id": "ee7ea4207c0e7af1",
   "execution_count": 1,
   "outputs": []
  },
  {
   "metadata": {},
   "cell_type": "markdown",
   "source": [
    "## 2. Portfolio Performance\n",
    "\n",
    "### Cumulative Returns vs. Benchmark\n",
    "\n",
    "We compare the cumulative returns of the portfolio and individual stocks against a market benchmark (S&P 500).\n"
   ],
   "id": "1b511b520374ad1"
  },
  {
   "metadata": {
    "ExecuteTime": {
     "end_time": "2024-07-29T18:26:26.115088Z",
     "start_time": "2024-07-29T18:26:25.087398Z"
    }
   },
   "cell_type": "code",
   "source": [
    "# Define benchmark\n",
    "benchmark_symbol = '^GSPC'  # S&P 500\n",
    "\n",
    "# Fetch benchmark data\n",
    "benchmark_data = yf.download(benchmark_symbol, start=start_date, end=end_date)['Adj Close']\n",
    "\n",
    "# Calculate cumulative returns\n",
    "returns = data.pct_change().dropna()\n",
    "portfolio_returns = (returns + 1).cumprod() - 1\n",
    "benchmark_returns = (benchmark_data.pct_change().dropna() + 1).cumprod() - 1\n",
    "portfolio_cumulative_returns = portfolio_returns.mean(axis=1)\n",
    "# Plot cumulative returns\n",
    "import matplotlib.pyplot as plt\n",
    "\n",
    "plt.figure(figsize=(14, 7))\n",
    "for sym in symbols:\n",
    "    plt.plot(portfolio_returns[sym], label=sym)\n",
    "\n",
    "plt.plot(portfolio_cumulative_returns, label='Cumulative', linewidth=3 )\n",
    "plt.plot(benchmark_returns, label='S&P 500', linewidth=3, linestyle='--')\n",
    "plt.title('Cumulative Returns vs. Benchmark')\n",
    "plt.xlabel('Date')\n",
    "plt.ylabel('Cumulative Returns')\n",
    "plt.legend()\n",
    "plt.show()\n"
   ],
   "id": "c7081898a1176ecb",
   "execution_count": 2,
   "outputs": []
  },
  {
   "metadata": {},
   "cell_type": "markdown",
   "source": [
    "## 3. Risk Analysis\n",
    "\n",
    "### Daily Returns Distribution\n",
    "\n",
    "We analyze the distribution of daily returns for the portfolio.\n"
   ],
   "id": "751b7bd411d366cf"
  },
  {
   "metadata": {
    "ExecuteTime": {
     "end_time": "2024-07-29T18:26:26.676237Z",
     "start_time": "2024-07-29T18:26:26.115726Z"
    }
   },
   "cell_type": "code",
   "source": [
    "# Calculate daily returns for the portfolio\n",
    "weights = [portfolio[sym]['shares'] * portfolio[sym]['avg_price'] for sym in symbols]\n",
    "total_value = sum(weights)\n",
    "weights = [w / total_value for w in weights]\n",
    "portfolio_returns = returns.dot(weights)\n",
    "\n",
    "# Plot daily returns distribution\n",
    "import seaborn as sns\n",
    "\n",
    "plt.figure(figsize=(14, 7))\n",
    "sns.histplot(portfolio_returns, bins=50, kde=True)\n",
    "plt.title('Portfolio Daily Returns Distribution')\n",
    "plt.xlabel('Daily Returns')\n",
    "plt.ylabel('Frequency')\n",
    "plt.show()\n"
   ],
   "id": "c679acebb37772a5",
   "execution_count": 3,
   "outputs": []
  },
  {
   "metadata": {},
   "cell_type": "markdown",
   "source": [
    "### Risk-Return Scatter Plot\n",
    "\n",
    "We plot the risk (standard deviation) versus return for the portfolio and individual stocks.\n"
   ],
   "id": "200f7cf84511f976"
  },
  {
   "metadata": {
    "ExecuteTime": {
     "end_time": "2024-07-29T18:26:26.999540Z",
     "start_time": "2024-07-29T18:26:26.676237Z"
    }
   },
   "cell_type": "code",
   "source": [
    "# Calculate annualized return and volatility\n",
    "annualized_return = returns.mean() * 252\n",
    "annualized_volatility = returns.std() * (252**0.5)\n",
    "\n",
    "# Data for scatter plot\n",
    "risk_return_data = pd.DataFrame({\n",
    "    'Return': annualized_return,\n",
    "    'Volatility': annualized_volatility\n",
    "})\n",
    "\n",
    "# Scatter plot\n",
    "plt.figure(figsize=(14, 7))\n",
    "sns.scatterplot(x='Volatility', y='Return', data=risk_return_data, s=100)\n",
    "plt.title('Risk-Return Scatter Plot')\n",
    "plt.xlabel('Annualized Volatility')\n",
    "plt.ylabel('Annualized Return')\n",
    "plt.show()\n"
   ],
   "id": "9b22ba0955997317",
   "execution_count": 4,
   "outputs": []
  },
  {
   "metadata": {},
   "cell_type": "markdown",
   "source": [
    "## 4. Asset Allocation\n",
    "\n",
    "### Current Investment Allocation\n",
    "\n",
    "We show the proportion of investment in each stock within the portfolio.\n"
   ],
   "id": "57e5eaf09749a80e"
  },
  {
   "metadata": {
    "ExecuteTime": {
     "end_time": "2024-07-29T18:26:27.124962Z",
     "start_time": "2024-07-29T18:26:26.999540Z"
    }
   },
   "cell_type": "code",
   "source": [
    "# Define portfolio\n",
    "portfolio_values = {sym: portfolio[sym]['shares'] * portfolio[sym]['avg_price'] for sym in symbols}\n",
    "\n",
    "# Pie chart of current investment\n",
    "labels = portfolio_values.keys()\n",
    "sizes = portfolio_values.values()\n",
    "\n",
    "plt.figure(figsize=(10, 6))\n",
    "plt.pie(sizes, labels=labels, autopct='%1.1f%%', startangle=140)\n",
    "plt.title('Current Investment Allocation')\n",
    "plt.axis('equal')  # Equal aspect ratio ensures that pie is drawn as a circle.\n",
    "plt.show()\n"
   ],
   "id": "347ebc912b33df66",
   "execution_count": 5,
   "outputs": []
  },
  {
   "metadata": {},
   "cell_type": "markdown",
   "source": [
    "## 5. Correlation Analysis\n",
    "\n",
    "We analyze the correlation between the returns of different stocks in the portfolio.\n"
   ],
   "id": "5af597fbd6906726"
  },
  {
   "metadata": {
    "ExecuteTime": {
     "end_time": "2024-07-29T18:26:27.407622Z",
     "start_time": "2024-07-29T18:26:27.124962Z"
    }
   },
   "cell_type": "code",
   "source": [
    "# Correlation matrix\n",
    "correlation_matrix = returns.corr()\n",
    "\n",
    "# Plot correlation matrix\n",
    "plt.figure(figsize=(10, 8))\n",
    "sns.heatmap(correlation_matrix, annot=True, cmap='coolwarm')\n",
    "plt.title('Stock Correlation Matrix')\n",
    "plt.show()\n"
   ],
   "id": "8838193ec3681733",
   "execution_count": 6,
   "outputs": []
  },
  {
   "metadata": {},
   "cell_type": "markdown",
   "source": [
    "## 6. Advanced Risk Metrics\n",
    "\n",
    "### Conditional Value at Risk (CVaR)\n",
    "\n",
    "Assess the expected loss exceeding VaR, providing insights into tail risk.\n"
   ],
   "id": "c750de79f2268890"
  },
  {
   "metadata": {
    "ExecuteTime": {
     "end_time": "2024-07-29T18:26:27.939566Z",
     "start_time": "2024-07-29T18:26:27.407622Z"
    }
   },
   "cell_type": "code",
   "source": [
    "import numpy as np\n",
    "\n",
    "# Calculate Value at Risk (VaR)\n",
    "confidence_level = 0.95\n",
    "VaR = np.percentile(portfolio_returns, 100 * (1 - confidence_level))\n",
    "\n",
    "# Calculate Conditional Value at Risk (CVaR)\n",
    "CVaR = portfolio_returns[portfolio_returns <= VaR].mean()\n",
    "\n",
    "# Plot VaR and CVaR\n",
    "plt.figure(figsize=(14, 7))\n",
    "sns.histplot(portfolio_returns, bins=50, kde=True, color='blue')\n",
    "plt.axvline(VaR, color='red', linestyle='--', label=f'VaR ({confidence_level*100}%): {VaR:.2f}')\n",
    "plt.axvline(CVaR, color='orange', linestyle='--', label=f'CVaR: {CVaR:.2f}')\n",
    "plt.title('Portfolio Daily Returns Distribution with VaR and CVaR')\n",
    "plt.xlabel('Daily Returns')\n",
    "plt.ylabel('Frequency')\n",
    "plt.legend()\n",
    "plt.show()\n"
   ],
   "id": "8d1e0522fa8880e6",
   "execution_count": 7,
   "outputs": []
  },
  {
   "metadata": {},
   "cell_type": "markdown",
   "source": [
    "### Rolling Beta\n",
    "\n",
    "Analyze the portfolio's beta changes over time to assess changing sensitivity to the market.\n"
   ],
   "id": "90716520224519d6"
  },
  {
   "metadata": {
    "ExecuteTime": {
     "end_time": "2024-07-29T18:26:28.441880Z",
     "start_time": "2024-07-29T18:26:27.939566Z"
    }
   },
   "cell_type": "code",
   "source": [
    "window_size = 252  # 1 year of trading days\n",
    "\n",
    "# Calculate rolling beta\n",
    "rolling_beta = returns.rolling(window=window_size).cov(benchmark_returns) / benchmark_returns.rolling(window=window_size).var()\n",
    "\n",
    "# Plot rolling beta\n",
    "plt.figure(figsize=(14, 7))\n",
    "for sym in symbols:\n",
    "    plt.plot(rolling_beta[sym], label=sym)\n",
    "plt.title('Rolling Beta (1 Year Window)')\n",
    "plt.xlabel('Date')\n",
    "plt.ylabel('Beta')\n",
    "plt.legend()\n",
    "plt.show()\n"
   ],
   "id": "ca9ba1bedd922ad0",
   "execution_count": 8,
   "outputs": []
  },
  {
   "metadata": {},
   "cell_type": "markdown",
   "source": [
    "## 7. Drawdown Analysis\n",
    "\n",
    "### Maximum Drawdown\n",
    "\n",
    "Measure the largest peak-to-trough decline to understand the risk of significant losses.\n"
   ],
   "id": "a72b3a4c470b1be2"
  },
  {
   "metadata": {
    "ExecuteTime": {
     "end_time": "2024-07-29T18:26:28.880755Z",
     "start_time": "2024-07-29T18:26:28.441880Z"
    }
   },
   "cell_type": "code",
   "source": [
    "# Calculate drawdowns\n",
    "cumulative_returns = (portfolio_returns + 1).cumprod()\n",
    "rolling_max = cumulative_returns.cummax()\n",
    "drawdown = (cumulative_returns - rolling_max) / rolling_max\n",
    "\n",
    "# Calculate maximum drawdown\n",
    "max_drawdown = drawdown.min()\n",
    "\n",
    "# Plot drawdowns\n",
    "plt.figure(figsize=(14, 7))\n",
    "plt.plot(drawdown, label='Drawdown')\n",
    "plt.axhline(max_drawdown, color='red', linestyle='--', label=f'Max Drawdown: {max_drawdown:.2f}')\n",
    "plt.title('Portfolio Drawdown')\n",
    "plt.xlabel('Date')\n",
    "plt.ylabel('Drawdown')\n",
    "plt.legend()\n",
    "plt.show()\n"
   ],
   "id": "1cc9e56cdf105861",
   "execution_count": 9,
   "outputs": []
  }
 ],
 "metadata": {
  "kernelspec": {
   "display_name": "Python 3",
   "language": "python",
   "name": "python3"
  },
  "language_info": {
   "codemirror_mode": {
    "name": "ipython",
    "version": 2
   },
   "file_extension": ".py",
   "mimetype": "text/x-python",
   "name": "python",
   "nbconvert_exporter": "python",
   "pygments_lexer": "ipython2",
   "version": "2.7.6"
  }
 },
 "nbformat": 4,
 "nbformat_minor": 5
}
