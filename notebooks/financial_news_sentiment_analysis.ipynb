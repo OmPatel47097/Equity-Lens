{
  "nbformat": 4,
  "nbformat_minor": 0,
  "metadata": {
    "colab": {
      "provenance": []
    },
    "kernelspec": {
      "name": "python3",
      "display_name": "Python 3"
    },
    "language_info": {
      "name": "python"
    }
  },
  "cells": [
    {
      "cell_type": "markdown",
      "source": [
        "# Sample Text"
      ],
      "metadata": {
        "id": "pqYTsR5DGKds"
      }
    },
    {
      "cell_type": "code",
      "source": [
        "text_1 = \"\"\"Bitcoin BTC tickers down $64,694\n",
        "\n",
        "may be down around 3.2% in June, but the tables may turn before the month is out.\n",
        "\n",
        "Analyzing how Fed liquidity conditions impact BTC/USD, Tedtalksmacro revealed a close correlation, which has held for several months.\n",
        "\n",
        "“The correlation between Bitcoin + Fed Liquidity never ceases to amaze me,” he wrote in accompanying commentary on X.\n",
        "\n",
        "“Liquidity bottoms in the coming 10 days, then rips higher again... get ready.”\n",
        "\n",
        "BTC/USD vs. Fed liquidity. Source: Tedtalksmacro\n",
        "A chart from his proprietary macro data resource, Talking Macro, showed BTC price highs and lows syncing with local peaks and troughs in Fed liquidity.\n",
        "\n",
        "Even Bitcoin’s latest all-time high of $73,800 in mid-March was accompanied by a liquidity spike.\n",
        "\n",
        "Clarifying how liquidity is calculated, Tedtalksmacro confirmed that the figure is based on “a mixture of Fed assets, repo markets, treasury data.”\n",
        "\n",
        "Source: Talking Macro\n",
        "Bitcoin ETFs await U.S. wirehouse influx\n",
        "Talking Macro referred to problematic short-term headwinds for Bitcoin, noting a new decline in inflows to the U.S. spot Bitcoin exchange-traded funds (ETFs).\n",
        "\n",
        "Related: Bitcoin price uptrend ‘intact’ with hodlers 120% in profit — Research\n",
        "\n",
        "After seeing their second-highest daily inflows on record in early June, the trend reversed, with the past four Wall Street trading days conversely seeing net outflows.\n",
        "\n",
        "Data from monitoring resources, including United Kingdom-based investment firm Farside Investors put the four-day outflow tally at just over $700 million — still less than the June 4 $886 million inflow.\"\"\""
      ],
      "metadata": {
        "id": "8ayC1C04GIFt"
      },
      "execution_count": null,
      "outputs": []
    },
    {
      "cell_type": "code",
      "source": [
        "text_2 = \"\"\"Previous Close\t24.70\n",
        "Open\t24.25\n",
        "Bid\t24.56 x 1400\n",
        "Ask\t24.60 x 900\n",
        "Day's Range\t23.65 - 25.69\n",
        "52 Week Range\t9.95 - 64.83\n",
        "Volume\t23,379,802\n",
        "Avg. Volume\t48,072,654\n",
        "Market Cap\t10.69B\n",
        "Beta (5Y Monthly)\t-0.24\n",
        "PE Ratio (TTM)\t313.50\n",
        "EPS (TTM)\t0.08\n",
        "Earnings Date\tSep 04, 2024 - Sep 09, 2024\n",
        "Forward Dividend & Yield\tN/A (N/A)\n",
        "Ex-Dividend Date\tMar 14, 2019\n",
        "1y Target Est\t8.38\"\"\""
      ],
      "metadata": {
        "id": "HSjypYtWGGBS"
      },
      "execution_count": null,
      "outputs": []
    },
    {
      "cell_type": "code",
      "source": [
        "text_3 = \"\"\"It’s time for GameStop (GME) to stick a fork in its flailing retail operations and embrace a second life as a holding company in the mold of Warren Buffett's Berkshire Hathaway (BRK-A)(BRK-B).\n",
        "\n",
        "GameStop is “a totally different company now,” said retail expert and investor Jeff Macke on Yahoo Finance’s ‘Opening Bid’ podcast (video above; listen in here).\n",
        "\n",
        "Though he now refers to GameStop as a “dump truck of a company,” Macke's sentiment wasn’t always so chilly. He said he owned its stock five years ago, when it was trading at $4 a share, with the view its operations were being undervalued.\n",
        "\n",
        "Later, he sold the stock for $25 a share.\n",
        "\n",
        "“I thought I was the genius of all time,” he said.\n",
        "\n",
        "But Gamestop is filled with fundamental woes as of late, which has raised the question if the Ryan Cohen led company is even a retailer anymore.\n",
        "\n",
        "Fiscal first-quarter results included a $32.3 million loss on revenue of $882 million. Notably, GameStop lost $50.5 million on revenue of $1.2 billion last year.\n",
        "\n",
        "The company continues to be pummeled by structural changes in the video gaming industry — from the switch to digital downloads, to competition for eyeballs with streamers like Netflix (NFLX), to an aging console gaming base.\n",
        "\n",
        "Cohen has basically went into hiding, not appearing on the company's notoriously short earnings calls. His plans for GameStop aren't known to his loyal Reddit followers or larger investors. C-suite execs have been exiting in the past two years.\n",
        "\n",
        "GameStop also no longer has any sell-side research coverage on Wall Street, a byproduct of the stock's insane volatility and Cohen's relative secrecy.\n",
        "\n",
        "Amid the latest batch of poor results, GameStop promoter Keith \"Roaring Kitty\" Gill returned to the scene on June 7 in a bizarre livestream; he once again touted the company, causing shares to enjoy a temporary, fleeting bump.\n",
        "\n",
        "This follows a post on social media from Gill several weeks earlier — after a long absence — that many GameStop loyalists saw as bullish.\n",
        "\n",
        "GameStop Corp. (GME)View quote details\n",
        "NYSE - Nasdaq Real Time Price (USD)\n",
        "25.05+0.35(1.43%)\n",
        "As of 1:59PM EDT.Market open.\n",
        "\n",
        "Add to watchlist\n",
        "1D5D1M6MYTD1Y5YMaxFull screen\n",
        "Cohen has used the frenzy to bolster GameStop's cash coffers.\n",
        "\n",
        "The company received $2.1 billion last week after selling another 75 million new shares. Some three weeks earlier, it sold 45 million shares, netting $933 million.\n",
        "\n",
        "Investing pros like Macke are wondering what Cohen will do with all the cash. Does he go out and buy companies like Berkshire Hathaway? Does he put it into Treasuries and individual stocks ala Buffett to earn a return?\n",
        "\n",
        "Either way, this sounds more akin to a CEO heading an asset management firm or holding entity, than one seeking to create amazing store experiences for shoppers.\"\"\""
      ],
      "metadata": {
        "id": "10x9sUaAGE2X"
      },
      "execution_count": null,
      "outputs": []
    },
    {
      "cell_type": "markdown",
      "source": [
        "# Imports"
      ],
      "metadata": {
        "id": "q2svDd9kGstW"
      }
    },
    {
      "cell_type": "code",
      "source": [
        "from transformers import pipeline"
      ],
      "metadata": {
        "id": "csCY2m-dFXyP"
      },
      "execution_count": null,
      "outputs": []
    },
    {
      "cell_type": "markdown",
      "source": [
        "# distilroberta-finetuned-financial-news-sentiment-analysis"
      ],
      "metadata": {
        "id": "pZR-rkelFEYR"
      }
    },
    {
      "cell_type": "code",
      "execution_count": null,
      "metadata": {
        "id": "x5SNHX2Vt04S"
      },
      "outputs": [],
      "source": [
        "distilroberta = pipeline(\"text-classification\", model=\"mrm8488/distilroberta-finetuned-financial-news-sentiment-analysis\")"
      ]
    },
    {
      "cell_type": "code",
      "source": [
        "distilroberta(text_1)"
      ],
      "metadata": {
        "id": "DGikBwjhu7aT"
      },
      "execution_count": null,
      "outputs": []
    },
    {
      "cell_type": "code",
      "source": [
        "distilroberta(text_2)"
      ],
      "metadata": {
        "id": "a_svRaLjyd1M"
      },
      "execution_count": null,
      "outputs": []
    },
    {
      "cell_type": "code",
      "source": [
        "distilroberta(text_3)"
      ],
      "metadata": {
        "id": "Xcku2vK-zuKb"
      },
      "execution_count": null,
      "outputs": []
    },
    {
      "cell_type": "markdown",
      "source": [
        "# deberta-v3-ft-financial-news-sentiment-analysis"
      ],
      "metadata": {
        "id": "I0j_IHQLFKlG"
      }
    },
    {
      "cell_type": "code",
      "source": [
        "deberta = pipeline(\"text-classification\", model=\"mrm8488/deberta-v3-ft-financial-news-sentiment-analysis\")"
      ],
      "metadata": {
        "id": "gBMtO0CFFQdM"
      },
      "execution_count": null,
      "outputs": []
    },
    {
      "cell_type": "code",
      "source": [
        "deberta(text_1)"
      ],
      "metadata": {
        "id": "lmXrjDhnGWDT"
      },
      "execution_count": null,
      "outputs": []
    },
    {
      "cell_type": "code",
      "source": [
        "deberta(text_2)"
      ],
      "metadata": {
        "id": "KXdAthuQGWyn"
      },
      "execution_count": null,
      "outputs": []
    },
    {
      "cell_type": "code",
      "source": [
        "deberta(text_3)"
      ],
      "metadata": {
        "id": "7kXVYK8FGWoN"
      },
      "execution_count": null,
      "outputs": []
    }
  ]
}