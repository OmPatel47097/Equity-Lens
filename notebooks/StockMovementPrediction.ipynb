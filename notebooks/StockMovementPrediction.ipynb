{
 "cells": [
  {
   "cell_type": "code",
   "id": "initial_id",
   "metadata": {
    "collapsed": true,
    "ExecuteTime": {
     "end_time": "2024-07-04T02:30:22.014782Z",
     "start_time": "2024-07-04T02:30:18.571976Z"
    }
   },
   "source": [
    "import pandas as pd\n",
    "from keras import Input\n",
    "from matplotlib import pyplot as plt\n",
    "\n",
    "from utils.IndicatorGenerator import IndicatorGenerator\n",
    "from utils.StockDataManager import StockDataManager"
   ],
   "execution_count": 1,
   "outputs": []
  },
  {
   "metadata": {
    "ExecuteTime": {
     "end_time": "2024-07-04T02:30:22.709793Z",
     "start_time": "2024-07-04T02:30:22.014782Z"
    }
   },
   "cell_type": "code",
   "source": [
    "stockDataManager = StockDataManager()\n",
    "\n",
    "df = stockDataManager.history(ticker=\"MSFT\", period=\"1d\", interval=\"1d\")"
   ],
   "id": "2d49e0a6f37cb699",
   "execution_count": 2,
   "outputs": []
  },
  {
   "metadata": {
    "ExecuteTime": {
     "end_time": "2024-07-04T02:30:22.741044Z",
     "start_time": "2024-07-04T02:30:22.709793Z"
    }
   },
   "cell_type": "code",
   "source": "df.head()",
   "id": "8eb87c9160ae0a5a",
   "execution_count": 3,
   "outputs": []
  },
  {
   "metadata": {
    "ExecuteTime": {
     "end_time": "2024-07-04T02:30:22.757112Z",
     "start_time": "2024-07-04T02:30:22.741044Z"
    }
   },
   "cell_type": "code",
   "source": "df['daily_return'] = df['adj_close'].pct_change()",
   "id": "adc5e01ad500114b",
   "execution_count": 4,
   "outputs": []
  },
  {
   "metadata": {
    "ExecuteTime": {
     "end_time": "2024-07-04T02:30:22.772755Z",
     "start_time": "2024-07-04T02:30:22.757112Z"
    }
   },
   "cell_type": "code",
   "source": "df.head()",
   "id": "41f2adb5684a9c8",
   "execution_count": 5,
   "outputs": []
  },
  {
   "metadata": {
    "ExecuteTime": {
     "end_time": "2024-07-04T02:30:22.788381Z",
     "start_time": "2024-07-04T02:30:22.772755Z"
    }
   },
   "cell_type": "code",
   "source": [
    "df['daily_return'] = df['daily_return'].fillna(0)\n",
    "df.head()"
   ],
   "id": "aa301c5696edcdc9",
   "execution_count": 6,
   "outputs": []
  },
  {
   "metadata": {
    "ExecuteTime": {
     "end_time": "2024-07-04T02:30:22.819664Z",
     "start_time": "2024-07-04T02:30:22.788381Z"
    }
   },
   "cell_type": "code",
   "source": [
    "indicatorGen = IndicatorGenerator(df)\n",
    "windows = [5, 10, 15, 20, 50, 100, 200]\n",
    "\n",
    "for window in windows:\n",
    "    sma = indicatorGen.moving_average(window)\n",
    "    ema = indicatorGen.exponential_moving_average(window)\n",
    "    df['EMA_' + str(window)] = ema\n",
    "    df['SMA_' + str(window)] = sma\n",
    "\n",
    "df.bfill(inplace=True)\n",
    "macd, signal = indicatorGen.macd()\n",
    "df['macd'] = macd\n",
    "df['signal'] = signal\n",
    "\n",
    "sma, upper_band, lower_band = indicatorGen.bollinger_bands()\n",
    "df['bb_upper'] = upper_band\n",
    "df['bb_lower'] = lower_band\n",
    "\n",
    "df['rsi'] = indicatorGen.rsi()\n",
    "df['stochastic_oscillator'] = indicatorGen.stochastic_oscillator()\n",
    "df['cci'] = indicatorGen.cci()\n",
    "\n",
    "df.bfill(inplace=True)\n",
    "\n"
   ],
   "id": "5a69d0bbd1e5bb4e",
   "execution_count": 7,
   "outputs": []
  },
  {
   "metadata": {
    "ExecuteTime": {
     "end_time": "2024-07-04T02:30:22.835263Z",
     "start_time": "2024-07-04T02:30:22.819664Z"
    }
   },
   "cell_type": "code",
   "source": "df['target'] = df['daily_return'].shift(-1)",
   "id": "7307408495c2cfe6",
   "execution_count": 8,
   "outputs": []
  },
  {
   "metadata": {
    "ExecuteTime": {
     "end_time": "2024-07-04T02:30:22.866941Z",
     "start_time": "2024-07-04T02:30:22.835263Z"
    }
   },
   "cell_type": "code",
   "source": "df.head()",
   "id": "423c6dfe32ae520e",
   "execution_count": 9,
   "outputs": []
  },
  {
   "metadata": {
    "ExecuteTime": {
     "end_time": "2024-07-04T02:30:23.536786Z",
     "start_time": "2024-07-04T02:30:22.866941Z"
    }
   },
   "cell_type": "code",
   "source": [
    "from sklearn.preprocessing import StandardScaler\n",
    "\n",
    "train_len = int(len(df) * 0.8)\n",
    "df_train = df[:train_len]\n",
    "df_test = df[train_len:]\n",
    "\n",
    "columns = df.columns\n",
    "scaler = StandardScaler()\n",
    "scaler.fit(df_train)\n",
    "df_train[columns] = scaler.transform(df_train)\n",
    "df_test[columns] = scaler.transform(df_test)\n"
   ],
   "id": "83198a7f36e618a0",
   "execution_count": 10,
   "outputs": []
  },
  {
   "metadata": {
    "ExecuteTime": {
     "end_time": "2024-07-04T02:30:23.552208Z",
     "start_time": "2024-07-04T02:30:23.536786Z"
    }
   },
   "cell_type": "code",
   "source": [
    "import numpy as np\n",
    "\n",
    "\n",
    "def create_sequences(sequence_length, data):\n",
    "    features = data.columns\n",
    "    target = 'adj_close'\n",
    "    X = []\n",
    "    y = []\n",
    "    x_raw = data[features].values\n",
    "    y_raw = data[target].values\n",
    "    for i in range(x_raw.shape[0] - sequence_length):\n",
    "        X.append(x_raw[i:i + sequence_length])\n",
    "        y.append(y_raw[i + sequence_length])\n",
    "    return np.array(X), np.array(y)"
   ],
   "id": "1823c615debd7bd9",
   "execution_count": 11,
   "outputs": []
  },
  {
   "metadata": {
    "ExecuteTime": {
     "end_time": "2024-07-04T02:30:23.615145Z",
     "start_time": "2024-07-04T02:30:23.552208Z"
    }
   },
   "cell_type": "code",
   "source": [
    "X_train, y_train = create_sequences(60, df_train)\n",
    "X_test, y_test = create_sequences(60, df_test)"
   ],
   "id": "69a0a29957331e2f",
   "execution_count": 12,
   "outputs": []
  },
  {
   "metadata": {
    "ExecuteTime": {
     "end_time": "2024-07-04T02:30:23.630762Z",
     "start_time": "2024-07-04T02:30:23.615145Z"
    }
   },
   "cell_type": "code",
   "source": [
    "print('X_train shape:', X_train.shape)\n",
    "print('X_test shape:', X_test.shape)\n",
    "print('y_train shape:', y_train.shape)\n",
    "print('y_test shape:', y_test.shape)\n",
    "print(X_train.shape[1])"
   ],
   "id": "6212d0f99a3e3eab",
   "execution_count": 13,
   "outputs": []
  },
  {
   "metadata": {
    "ExecuteTime": {
     "end_time": "2024-07-04T02:30:23.646416Z",
     "start_time": "2024-07-04T02:30:23.630762Z"
    }
   },
   "cell_type": "code",
   "source": [
    "from keras import Model\n",
    "from keras.models import Sequential\n",
    "from keras.layers import Dense, Dropout, LSTM, Input, Conv1D, MaxPooling1D, Flatten, concatenate\n",
    "\n",
    "\n",
    "def build_model():\n",
    "    input_layer = Input(shape=(60, df_train.shape[1]))\n",
    "\n",
    "    # LSTM\n",
    "    lstm1 = LSTM(units=50, return_sequences=True)(input_layer)\n",
    "    lstm2 = LSTM(units=50, return_sequences=False)(lstm1)\n",
    "\n",
    "    # CNN\n",
    "    cnn1 = Conv1D(filters=64, kernel_size=2, activation='relu')(input_layer)\n",
    "    max_pool = MaxPooling1D(pool_size=2)(cnn1)\n",
    "    flatten = Flatten()(max_pool)\n",
    "\n",
    "    combined = concatenate([lstm2, flatten])\n",
    "    dense1 = Dense(units=64, activation='relu')(combined)\n",
    "    dropout = Dropout(0.5)(dense1)\n",
    "    output = Dense(1)(dropout)\n",
    "\n",
    "    model = Model(inputs=input_layer, outputs=output)\n",
    "    model.compile(loss='mse', optimizer='adam')\n",
    "\n",
    "    model.summary()\n",
    "\n",
    "    return model"
   ],
   "id": "b4a3c728c1d25466",
   "execution_count": 14,
   "outputs": []
  },
  {
   "metadata": {
    "ExecuteTime": {
     "end_time": "2024-07-04T02:30:27.434465Z",
     "start_time": "2024-07-04T02:30:23.646416Z"
    }
   },
   "cell_type": "code",
   "source": "model = build_model()",
   "id": "f288e1c2ac1c938b",
   "execution_count": 15,
   "outputs": []
  },
  {
   "metadata": {
    "ExecuteTime": {
     "end_time": "2024-07-04T02:31:17.250879Z",
     "start_time": "2024-07-04T02:30:27.434465Z"
    }
   },
   "cell_type": "code",
   "source": "model.fit(X_train, y_train, epochs=100, batch_size=512, validation_data=(X_test, y_test))",
   "id": "733b9b49e9ef76ef",
   "execution_count": 16,
   "outputs": []
  },
  {
   "metadata": {
    "ExecuteTime": {
     "end_time": "2024-07-04T02:32:41.838215Z",
     "start_time": "2024-07-04T02:32:38.407299Z"
    }
   },
   "cell_type": "code",
   "source": [
    "train_predictions = model.predict(X_train)\n",
    "test_predictions = model.predict(X_test)"
   ],
   "id": "c17b943acb39dd69",
   "execution_count": 17,
   "outputs": []
  },
  {
   "metadata": {
    "ExecuteTime": {
     "end_time": "2024-07-04T02:34:10.810813Z",
     "start_time": "2024-07-04T02:34:09.988901Z"
    }
   },
   "cell_type": "code",
   "source": [
    "import matplotlib.pyplot as plt\n",
    "plt.plot(train_predictions)\n",
    "plt.plot(y_train)"
   ],
   "id": "cc2e7be37b45ce4d",
   "execution_count": 19,
   "outputs": []
  },
  {
   "metadata": {
    "ExecuteTime": {
     "end_time": "2024-07-04T02:35:05.399896Z",
     "start_time": "2024-07-04T02:35:05.243262Z"
    }
   },
   "cell_type": "code",
   "source": [
    "plt.plot(test_predictions)\n",
    "plt.plot(y_test)"
   ],
   "id": "4cbd512d245ee914",
   "execution_count": 20,
   "outputs": []
  },
  {
   "metadata": {},
   "cell_type": "code",
   "execution_count": null,
   "source": "",
   "id": "6605f5f0b321cded",
   "outputs": []
  }
 ],
 "metadata": {
  "kernelspec": {
   "display_name": "Python 3",
   "language": "python",
   "name": "python3"
  },
  "language_info": {
   "codemirror_mode": {
    "name": "ipython",
    "version": 2
   },
   "file_extension": ".py",
   "mimetype": "text/x-python",
   "name": "python",
   "nbconvert_exporter": "python",
   "pygments_lexer": "ipython2",
   "version": "2.7.6"
  }
 },
 "nbformat": 4,
 "nbformat_minor": 5
}
